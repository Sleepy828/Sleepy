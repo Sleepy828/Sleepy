{
 "cells": [
  {
   "cell_type": "code",
   "execution_count": null,
   "metadata": {},
   "outputs": [],
   "source": [
    "import random\n",
    "\n",
    "def russian_roulette(players, num_bullets):\n",
    "    print(\"Welcome to Russian Roulette!\")\n",
    "    chambers = [0] * 6  \n",
    "    \n",
    "    \n",
    "    bullet_positions = random.sample(range(6), num_bullets)\n",
    "    for pos in bullet_positions:\n",
    "        chambers[pos] = 1\n",
    "    \n",
    "    while players:\n",
    "        for player in players[:]:  \n",
    "            choice = input(f\"{player}, pick a number between 1 and 6: \")\n",
    "\n",
    "            if choice not in ['1', '2', '3', '4', '5', '6']:\n",
    "                print(\"Invalid input. Please choose a number between 1 and 6.\")\n",
    "                continue\n",
    "\n",
    "            choice = int(choice) \n",
    "\n",
    "            if chambers[choice] == 1:\n",
    "                print(f\"Oh no! {player}, there was a bullet in chamber {choice + 1}. You're out!\")\n",
    "                players.remove(player)  \n",
    "            else:\n",
    "                print(f\"{player}, chamber {choice + 1} is safe. You live to play again!\")\n",
    "\n",
    "        if len(players) == 0:\n",
    "            print(\"All players are out! Game over.\")\n",
    "            break\n",
    "\n",
    "\n",
    "players_count = int(input(\"How many players (1 to 6)? \"))\n",
    "if 1 <= players_count <= 6:\n",
    "    players = []\n",
    "    for i in range(players_count):\n",
    "        player_name = input(f\"Enter the name for player {i + 1}: \")\n",
    "        players.append(player_name)\n",
    "\n",
    "  \n",
    "    num_bullets = random.randint(1, 6)\n",
    "    print(f\"Randomly selected number of bullets: {num_bullets}\")\n",
    "\n",
    "    russian_roulette(players, num_bullets)\n",
    "else:\n",
    "    print(\"Invalid number of players. Please choose between 1 and 6 players.\")"
   ]
  }
 ],
 "metadata": {
  "kernelspec": {
   "display_name": "Python 3",
   "language": "python",
   "name": "python3"
  },
  "language_info": {
   "codemirror_mode": {
    "name": "ipython",
    "version": 3
   },
   "file_extension": ".py",
   "mimetype": "text/x-python",
   "name": "python",
   "nbconvert_exporter": "python",
   "pygments_lexer": "ipython3",
   "version": "3.12.7"
  }
 },
 "nbformat": 4,
 "nbformat_minor": 2
}
